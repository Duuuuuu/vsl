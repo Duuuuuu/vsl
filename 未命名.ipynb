{
 "cells": [
  {
   "cell_type": "code",
   "execution_count": 2,
   "metadata": {},
   "outputs": [
    {
     "name": "stdout",
     "output_type": "stream",
     "text": [
      "Traceback (most recent call last):\n",
      "  File \"vsl_gg.py\", line 9, in <module>\n",
      "    from tensorboardX import SummaryWriter\n",
      "  File \"/n/home11/alicel44/.conda/envs/embryo/lib/python3.6/site-packages/tensorboardX/__init__.py\", line 5, in <module>\n",
      "    from .torchvis import TorchVis\n",
      "  File \"/n/home11/alicel44/.conda/envs/embryo/lib/python3.6/site-packages/tensorboardX/torchvis.py\", line 11, in <module>\n",
      "    from .writer import SummaryWriter\n",
      "  File \"/n/home11/alicel44/.conda/envs/embryo/lib/python3.6/site-packages/tensorboardX/writer.py\", line 15, in <module>\n",
      "    from .event_file_writer import EventFileWriter\n",
      "  File \"/n/home11/alicel44/.conda/envs/embryo/lib/python3.6/site-packages/tensorboardX/event_file_writer.py\", line 28, in <module>\n",
      "    from .proto import event_pb2\n",
      "  File \"/n/home11/alicel44/.conda/envs/embryo/lib/python3.6/site-packages/tensorboardX/proto/event_pb2.py\", line 7, in <module>\n",
      "    from google.protobuf import descriptor as _descriptor\n",
      "  File \"/n/home11/alicel44/.conda/envs/embryo/lib/python3.6/site-packages/google/protobuf/descriptor.py\", line 47, in <module>\n",
      "    from google.protobuf.pyext import _message\n",
      "ImportError: /lib64/libstdc++.so.6: version `GLIBCXX_3.4.21' not found (required by /n/home11/alicel44/.conda/envs/embryo/lib/python3.6/site-packages/google/protobuf/pyext/_message.cpython-36m-x86_64-linux-gnu.so)\n"
     ]
    }
   ],
   "source": [
    "! python vsl_gg.py \\\n",
    "    --debug 1 \\\n",
    "    --model g \\\n",
    "    --data_file twitter1.0.data \\\n",
    "    --vocab_file twitter \\\n",
    "    --tag_file twitter_tagfile \\\n",
    "    --embed_file twitter/twitter_wordvects \\\n",
    "    --n_iter 30000 \\\n",
    "    --save_prior 1 \\\n",
    "    --train_emb 0 \\\n",
    "    --tie_weights 1 \\\n",
    "    --embed_dim 100 \\\n",
    "    --latent_z_size 50 \\\n",
    "    --update_freq_label 1 \\\n",
    "    --update_freq_unlabel 1 \\\n",
    "    --rnn_size 100 \\\n",
    "    --char_embed_dim 50 \\\n",
    "    --char_hidden_size 100 \\\n",
    "    --mlp_layer 2 \\\n",
    "    --mlp_hidden_size 100 \\\n",
    "    --learning_rate 1e-3 \\\n",
    "    --vocab_size 100000 \\\n",
    "    --batch_size 10 \\\n",
    "    --kl_anneal_rate 1e-4 \\\n",
    "    --print_every 100 \\\n",
    "    --eval_every 1000 \\\n",
    "    --summarize 1"
   ]
  },
  {
   "cell_type": "code",
   "execution_count": null,
   "metadata": {},
   "outputs": [
    {
     "name": "stdout",
     "output_type": "stream",
     "text": [
      "\r\n",
      "我们信任您已经从系统管理员那里了解了日常注意事项。\r\n",
      "总结起来无外乎这三点：\r\n",
      "\r\n",
      "    #1) 尊重别人的隐私。\r\n",
      "    #2) 输入前要先考虑(后果和风险)。\r\n",
      "    #3) 权力越大，责任越大。\r\n",
      "\r\n",
      "[sudo] alicel44 的密码："
     ]
    }
   ],
   "source": [
    "!sudo add-apt-repository ppa:ubuntu-toolchain-r/test \n",
    "!sudo apt-get update\n",
    "!sudo apt-get upgrade\n",
    "!sudo apt-get dist-upgrade"
   ]
  },
  {
   "cell_type": "code",
   "execution_count": null,
   "metadata": {},
   "outputs": [],
   "source": []
  }
 ],
 "metadata": {
  "kernelspec": {
   "display_name": "Python 3",
   "language": "python",
   "name": "python3"
  },
  "language_info": {
   "codemirror_mode": {
    "name": "ipython",
    "version": 3
   },
   "file_extension": ".py",
   "mimetype": "text/x-python",
   "name": "python",
   "nbconvert_exporter": "python",
   "pygments_lexer": "ipython3",
   "version": "3.6.10"
  }
 },
 "nbformat": 4,
 "nbformat_minor": 4
}
